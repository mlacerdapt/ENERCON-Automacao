{
 "cells": [
  {
   "cell_type": "code",
   "execution_count": 24,
   "metadata": {},
   "outputs": [
    {
     "name": "stdout",
     "output_type": "stream",
     "text": [
      "Processed file: \\\\srv-pt3\\groups\\02-Blades\\02-Process Engineering\\9. Projetos\\4. Dashboard\\Base de Dados\\All - Por Ano\\All_2024.XLSX\n",
      "Processed file: \\\\srv-pt3\\groups\\02-Blades\\02-Process Engineering\\9. Projetos\\4. Dashboard\\Base de Dados\\All - Por Ano\\All_2025.XLSX\n",
      "Consolidated data saved to: all.xlsx\n"
     ]
    }
   ],
   "source": [
    "import os\n",
    "import pandas as pd\n",
    "\n",
    "def consolidate_and_export_excel(source_folder, destination_file):\n",
    "    \"\"\"\n",
    "    Consolidates Excel files from a folder and exports them to a single Excel file.\n",
    "\n",
    "    Args:\n",
    "        source_folder (str): Path to the folder containing the Excel files.\n",
    "        destination_file (str): Path to the destination Excel file.\n",
    "    \"\"\"\n",
    "\n",
    "    data_frame = pd.DataFrame()  # Create an empty DataFrame to store consolidated data\n",
    "\n",
    "    # Filter for Excel files only\n",
    "    excel_files = [\n",
    "        os.path.join(source_folder, file)\n",
    "        for file in os.listdir(source_folder)\n",
    "        if file.endswith(('.xlsx', '.xls', '.xlsm', '.xlsb','.XLSX', '.XLS', '.XLMS', '.XLSB'))\n",
    "    ]\n",
    "\n",
    "    if not excel_files:\n",
    "        print(f\"No Excel files found in the source folder: {source_folder}\")\n",
    "        return\n",
    "\n",
    "    for file in excel_files:\n",
    "        try:\n",
    "            df = pd.read_excel(file, index_col=0)  # Read the Excel file\n",
    "            data_frame = pd.concat([data_frame, df], ignore_index=True)  # Concatenate DataFrames\n",
    "            print(f\"Processed file: {file}\")\n",
    "        except FileNotFoundError:\n",
    "            print(f\"Error: File not found: {file}\")\n",
    "        except pd.errors.ParserError:\n",
    "            print(f\"Error parsing file (invalid format or data): {file}\")\n",
    "        except Exception as e:\n",
    "            print(f\"Error processing file {file}: {e}\")\n",
    "            return  # Stop execution on major errors\n",
    "\n",
    "    if data_frame.empty:\n",
    "        print(\"No data processed. The final DataFrame is empty.\")\n",
    "        return\n",
    "\n",
    "    try:\n",
    "        data_frame.to_excel(destination_file, index=False)  # Export to Excel without index\n",
    "        print(f\"Consolidated data saved to: {destination_file}\")\n",
    "    except Exception as e:\n",
    "        print(f\"Error saving consolidated data: {e}\")\n",
    "\n",
    "# Example usage:\n",
    "source_folder = r\"\\\\srv-pt3\\groups\\02-Blades\\02-Process Engineering\\9. Projetos\\4. Dashboard\\Base de Dados\\All - Por Ano\"\n",
    "destination_file = r\"all.xlsx\"\n",
    "consolidate_and_export_excel(source_folder, destination_file)"
   ]
  }
 ],
 "metadata": {
  "kernelspec": {
   "display_name": "Python 3",
   "language": "python",
   "name": "python3"
  },
  "language_info": {
   "codemirror_mode": {
    "name": "ipython",
    "version": 3
   },
   "file_extension": ".py",
   "mimetype": "text/x-python",
   "name": "python",
   "nbconvert_exporter": "python",
   "pygments_lexer": "ipython3",
   "version": "3.8.7"
  }
 },
 "nbformat": 4,
 "nbformat_minor": 2
}
